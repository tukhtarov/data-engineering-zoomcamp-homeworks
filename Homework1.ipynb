{
 "cells": [
  {
   "cell_type": "markdown",
   "id": "5b4825ea-cea2-48a6-9af9-bf3ab6cc1344",
   "metadata": {},
   "source": [
    "Question 1\n",
    "Answer: --rm"
   ]
  },
  {
   "cell_type": "markdown",
   "id": "05428747-3a1b-422d-b6bd-e775de9d3e88",
   "metadata": {},
   "source": [
    "Question 2\n",
    "Answer: 0.42.0"
   ]
  },
  {
   "cell_type": "markdown",
   "id": "8d39d09f-e459-4791-bbe9-e79c6a1b9401",
   "metadata": {},
   "source": [
    "Question 3\n",
    "\n",
    "SELECT\n",
    "    *\n",
    "FROM\n",
    "    green_taxi_data t\n",
    "WHERE\n",
    "\tCAST(lpep_pickup_datetime AS DATE) = '2019-09-18' AND\n",
    "\tCAST(lpep_dropoff_datetime AS DATE) = '2019-09-18'\n",
    "\n",
    "Answer - 15612"
   ]
  },
  {
   "cell_type": "markdown",
   "id": "0e2aab9e-6064-4c30-b0cf-39c19f47ffe1",
   "metadata": {},
   "source": [
    "Question 4\n",
    "\n",
    "SELECT\n",
    "    CAST(lpep_pickup_datetime AS DATE) as \"day\",\n",
    "    MAX(trip_distance) as \"dist\"\n",
    "FROM\n",
    "\tgreen_taxi_data t\n",
    "GROUP BY\n",
    "    CAST(lpep_pickup_datetime AS DATE)\n",
    "ORDER BY \"dist\" DESC;\n",
    "\n",
    "Answer - 2019-09-26"
   ]
  },
  {
   "cell_type": "markdown",
   "id": "0cf5f039-b83a-421e-853a-a4a2a9b48b81",
   "metadata": {},
   "source": [
    "Question 5\n",
    "\n",
    "\n",
    "SELECT\n",
    "\tCAST(t.\"lpep_pickup_datetime\" AS DATE) as \"day\",\n",
    "\tzpu.\"Borough\",\n",
    "\tCOUNT(1) as \"count\",\n",
    "\tSUM(t.\"total_amount\") as sum\n",
    "FROM\n",
    "    green_taxi_data t JOIN zones zpu\n",
    "        ON t.\"PULocationID\" = zpu.\"LocationID\"\n",
    "WHERE\t\t\n",
    "\tCAST(lpep_pickup_datetime AS DATE) = '2019-09-18'\t\t\n",
    "GROUP BY\n",
    "\t1, 2\n",
    "ORDER BY\n",
    "\t\"sum\" DESC\n",
    "\n",
    "Answer - \"Brooklyn\" \"Manhattan\" \"Queens\""
   ]
  },
  {
   "cell_type": "markdown",
   "id": "58bfbce0-3865-4dc0-a7c2-b64082394bba",
   "metadata": {},
   "source": [
    "Question 6\n",
    "\n",
    "SELECT\n",
    "\tCAST(DATE_TRUNC('MONTH', t.\"lpep_pickup_datetime\") as DATE),\n",
    "\tzpu.\"Zone\",\n",
    "\tzdo.\"Zone\",\n",
    "\tCOUNT(1) as \"count\",\n",
    "\tMAX(t.\"tip_amount\") as \"tip\"\n",
    "FROM\n",
    "    green_taxi_data t JOIN zones zpu\n",
    "        ON t.\"PULocationID\" = zpu.\"LocationID\"\n",
    "\tJOIN zones zdo\n",
    "        ON t.\"DOLocationID\" = zdo.\"LocationID\"\t\n",
    "WHERE\n",
    "\tCAST(DATE_TRUNC('MONTH', t.\"lpep_pickup_datetime\") as DATE) = '2019-09-01' AND zpu.\"Zone\" = 'Astoria'\t\n",
    "GROUP BY\n",
    "\t1, 2, 3\n",
    "ORDER BY\n",
    "\t\"tip\" DESC\n",
    "\n",
    "Answer - JFK Airport"
   ]
  }
 ],
 "metadata": {
  "kernelspec": {
   "display_name": "Python 3 (ipykernel)",
   "language": "python",
   "name": "python3"
  },
  "language_info": {
   "codemirror_mode": {
    "name": "ipython",
    "version": 3
   },
   "file_extension": ".py",
   "mimetype": "text/x-python",
   "name": "python",
   "nbconvert_exporter": "python",
   "pygments_lexer": "ipython3",
   "version": "3.9.18"
  }
 },
 "nbformat": 4,
 "nbformat_minor": 5
}
